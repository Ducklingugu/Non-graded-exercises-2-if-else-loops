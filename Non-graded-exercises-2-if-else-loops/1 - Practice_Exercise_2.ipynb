{
 "cells": [
  {
   "cell_type": "markdown",
   "metadata": {},
   "source": [
    "1. Ask user to enter a string and check that it is made up only alphabets:"
   ]
  },
  {
   "cell_type": "code",
   "execution_count": 18,
   "metadata": {},
   "outputs": [
    {
     "name": "stdout",
     "output_type": "stream",
     "text": [
      "invaild\n"
     ]
    }
   ],
   "source": [
    "input_word = input(\"please input your username\")\n",
    "if input_word.isalpha():\n",
    "    print(\"vaild\")\n",
    "else:\n",
    "    print(\"invaild\")"
   ]
  },
  {
   "cell_type": "markdown",
   "metadata": {},
   "source": [
    "2. Now, make sure that the string is made up of both alphabets and numbers:\n",
    "\n",
    "TRY using isalnum() function and then entering only alhpabets in the string and see what happens."
   ]
  },
  {
   "cell_type": "code",
   "execution_count": 17,
   "metadata": {},
   "outputs": [
    {
     "name": "stdout",
     "output_type": "stream",
     "text": [
      "invaild\n"
     ]
    }
   ],
   "source": [
    "input_word = input(\"please input your username\")\n",
    "isdig = False\n",
    "isalp = False\n",
    "issign = False\n",
    "for x in input_word:\n",
    "    if x.isdigit() == False and x.isalpha() == False:\n",
    "        issign = True\n",
    "        break\n",
    "    elif x.isdigit():\n",
    "        isdig = True\n",
    "    elif x.isalpha():\n",
    "        isalp = True\n",
    "if issign == True:\n",
    "   print(\"invaild\")\n",
    "elif isdig == True and isalp ==True :\n",
    "    print(\"valid\")\n",
    "else:\n",
    "    print(\"invaild\")"
   ]
  },
  {
   "cell_type": "markdown",
   "metadata": {},
   "source": [
    "3. Now, make sure that the string is made up of both alphabets and at least one number:\n"
   ]
  },
  {
   "cell_type": "code",
   "execution_count": 2,
   "metadata": {},
   "outputs": [
    {
     "name": "stdout",
     "output_type": "stream",
     "text": [
      "ok\n"
     ]
    }
   ],
   "source": [
    "input_word = input(\"please input your username\")\n",
    "isdig = 0\n",
    "isalp = 0\n",
    "issign = 0\n",
    "for x in input_word:\n",
    "    if x.isdigit() == True:\n",
    "        isdig = isdig + 1\n",
    "    elif x.isalpha() ==True:\n",
    "        isalp = isalp + 1\n",
    "if isalp >= 2 and isdig >= 1:\n",
    "    print(\"ok\")\n",
    "else:\n",
    "    print(\"invaild\")\n",
    "\n"
   ]
  },
  {
   "cell_type": "markdown",
   "metadata": {},
   "source": [
    "4. Now, make sure that the string is made up of both alphabets, at least one number, and at least one special character:"
   ]
  },
  {
   "cell_type": "code",
   "execution_count": 10,
   "metadata": {},
   "outputs": [
    {
     "name": "stdout",
     "output_type": "stream",
     "text": [
      "13 7 8\n",
      "Vaild\n"
     ]
    }
   ],
   "source": [
    "input_word = input(\"please input your username\")\n",
    "isdig = 0\n",
    "isalp = 0\n",
    "issign = 0\n",
    "for x in input_word:\n",
    "    if x.isalpha() == False and x.isdigit() == False:\n",
    "        issign = issign + 1\n",
    "    elif x.isdigit() == True:\n",
    "        isdig = isdig + 1\n",
    "    elif x.isalpha() ==True:\n",
    "        isalp = isalp + 1\n",
    "    \n",
    "print(isdig,isalp,issign)\n",
    "if isalp >= 2 and isdig >= 1 and issign >= 1 :\n",
    "    print(\"Vaild\")\n",
    "else:\n",
    "    print(\"Invaild\")\n",
    "\n"
   ]
  },
  {
   "cell_type": "markdown",
   "metadata": {},
   "source": [
    "5. Now, modify the above code so that if the user enters an invalid string, the program should ask the user to enter another string again, and keep asking until a valid string has been entered."
   ]
  },
  {
   "cell_type": "code",
   "execution_count": 11,
   "metadata": {},
   "outputs": [
    {
     "name": "stdout",
     "output_type": "stream",
     "text": [
      "3 0 0\n",
      "Invaild\n",
      "4 0 0\n",
      "Invaild\n",
      "7 6 0\n",
      "Invaild\n",
      "4 4 1\n",
      "Vaild\n"
     ]
    }
   ],
   "source": [
    "while True:   \n",
    "    input_word = input(\"please input your username\")\n",
    "    isdig = 0\n",
    "    isalp = 0\n",
    "    issign = 0\n",
    "    for x in input_word:\n",
    "        if x.isalpha() == False and x.isdigit() == False:\n",
    "            issign = issign + 1\n",
    "        elif x.isdigit() == True:\n",
    "            isdig = isdig + 1\n",
    "        elif x.isalpha() ==True:\n",
    "            isalp = isalp + 1\n",
    "        \n",
    "    print(isdig,isalp,issign)\n",
    "    if isalp >= 2 and isdig >= 1 and issign >= 1 :\n",
    "        print(\"Vaild\")\n",
    "        break\n",
    "    else:\n",
    "        print(\"Invaild\")\n",
    "    "
   ]
  }
 ],
 "metadata": {
  "kernelspec": {
   "display_name": "Python 3",
   "language": "python",
   "name": "python3"
  },
  "language_info": {
   "codemirror_mode": {
    "name": "ipython",
    "version": 3
   },
   "file_extension": ".py",
   "mimetype": "text/x-python",
   "name": "python",
   "nbconvert_exporter": "python",
   "pygments_lexer": "ipython3",
   "version": "3.11.8"
  }
 },
 "nbformat": 4,
 "nbformat_minor": 2
}
