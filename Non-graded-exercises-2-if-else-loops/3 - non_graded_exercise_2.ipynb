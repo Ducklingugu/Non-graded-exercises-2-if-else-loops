{
 "cells": [
  {
   "cell_type": "code",
   "execution_count": null,
   "metadata": {},
   "outputs": [],
   "source": [
    "import random\n",
    "\n",
    "print(\"Welcome to Hangman\")\n",
    "\n",
    "# List of words for the game\n",
    "word_list = ['apple', 'banana', 'cherry', 'date', 'elderberry']\n",
    "word_to_guess = random.choice(word_list)\n",
    "\n",
    "# Initialize game variables\n",
    "guessed_word = ['_'] * len(word_to_guess)\n",
    "attempts = 10\n",
    "guessed_letters = set()\n",
    "\n",
    "while attempts > 0 and '_' in guessed_word:\n",
    "    print(f\"Current word: {' '.join(guessed_word)}\")\n",
    "    print(f\"Attempts left: {attempts}\")\n",
    "    \n",
    "    input_letter = input(\"Please guess one letter of the word: \").lower()\n",
    "    \n",
    "    if len(input_letter) != 1:\n",
    "        print(\"Invalid input. Please enter a single letter.\")\n",
    "    elif not input_letter.isalpha():\n",
    "        print(\"Invalid Character. Please enter only letters.\")\n",
    "    elif input_letter in guessed_letters:\n",
    "        print(\"You already guessed that letter. Try again.\")\n",
    "    else:\n",
    "        guessed_letters.add(input_letter)\n",
    "        \n",
    "        if input_letter in word_to_guess:\n",
    "            print(\"Correct!\")\n",
    "            # Update guessed_word with correct letter\n",
    "            for i, letter in enumerate(word_to_guess):\n",
    "                if letter == input_letter:\n",
    "                    guessed_word[i] = input_letter\n",
    "        else:\n",
    "            print(\"Incorrect!\")\n",
    "            attempts -= 1\n",
    "\n",
    "# End of the game\n",
    "if '_' not in guessed_word:\n",
    "    print(f\"Awesome! You guessed the word correctly: {word_to_guess}\")\n",
    "else:\n",
    "    print(f\"Out of attempts! The word was: {word_to_guess}\")\n",
    "\n",
    "print(\"Thank you for playing. See you next time.\")\n",
    "\n",
    "    \n",
    "\n",
    "    \n",
    "\n"
   ]
  }
 ],
 "metadata": {
  "kernelspec": {
   "display_name": "Python 3",
   "language": "python",
   "name": "python3"
  },
  "language_info": {
   "codemirror_mode": {
    "name": "ipython",
    "version": 3
   },
   "file_extension": ".py",
   "mimetype": "text/x-python",
   "name": "python",
   "nbconvert_exporter": "python",
   "pygments_lexer": "ipython3",
   "version": "3.11.5"
  }
 },
 "nbformat": 4,
 "nbformat_minor": 2
}
